{
 "metadata": {
  "language_info": {
   "codemirror_mode": {
    "name": "ipython",
    "version": 3
   },
   "file_extension": ".py",
   "mimetype": "text/x-python",
   "name": "python",
   "nbconvert_exporter": "python",
   "pygments_lexer": "ipython3",
   "version": 3
  },
  "orig_nbformat": 2,
  "kernelspec": {
   "name": "python_defaultSpec_1595567437521",
   "display_name": "Python 3.8.3 64-bit ('HelloWorld': conda)"
  }
 },
 "nbformat": 4,
 "nbformat_minor": 2,
 "cells": [
  {
   "cell_type": "code",
   "execution_count": 12,
   "metadata": {
    "tags": []
   },
   "outputs": [
    {
     "output_type": "stream",
     "name": "stdout",
     "text": "xpsev\n"
    }
   ],
   "source": [
    "A = 'abcdefghijklmnopqrstuvwxyz'\n",
    "A += 'a'\n",
    "word = input(\"Please enter a word : \")\n",
    "print(''.join(map(lambda x : A[A.index(x)+1], word)))"
   ]
  },
  {
   "cell_type": "code",
   "execution_count": 13,
   "metadata": {
    "tags": []
   },
   "outputs": [
    {
     "output_type": "stream",
     "name": "stdout",
     "text": "cvstb\n"
    }
   ],
   "source": [
    "b = \"\"\n",
    "a = \"abcdefghijklmnopqrstuvwxyz\"\n",
    "word = input(\"enter a word : \")\n",
    "for i in range(0,len(word)):\n",
    "    for j in range(0,len(a)):\n",
    "        if word[i]==a[j]:\n",
    "            b+= a[j+1]\n",
    "print(b)"
   ]
  },
  {
   "cell_type": "code",
   "execution_count": null,
   "metadata": {},
   "outputs": [],
   "source": []
  }
 ]
}